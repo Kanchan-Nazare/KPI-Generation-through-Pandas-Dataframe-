{
 "cells": [
  {
   "cell_type": "code",
   "execution_count": 1,
   "id": "9b4e657e",
   "metadata": {},
   "outputs": [],
   "source": [
    "import pandas as pd\n",
    "import numpy as np\n",
    "import time"
   ]
  },
  {
   "cell_type": "code",
   "execution_count": 2,
   "id": "7a814a9d",
   "metadata": {},
   "outputs": [
    {
     "data": {
      "text/plain": [
       "array(['red', 'red', 'yellow', 'blue', 'blue', 'red', 'blue', 'blue',\n",
       "       'red', 'blue', 'purple', 'green', 'green', 'red', 'yellow', 'red',\n",
       "       'yellow', 'green', 'red', 'purple', 'blue', 'yellow', 'blue',\n",
       "       'blue', 'red', 'blue', 'purple', 'blue', 'red', 'purple', 'green',\n",
       "       'blue', 'red', 'green', 'green', 'yellow', 'purple', 'blue', 'red',\n",
       "       'yellow', 'purple', 'yellow', 'purple', 'purple', 'blue', 'purple',\n",
       "       'yellow', 'purple', 'blue', 'blue', 'yellow', 'green', 'green',\n",
       "       'purple', 'red', 'purple', 'yellow', 'yellow', 'yellow', 'yellow',\n",
       "       'yellow', 'blue', 'green', 'yellow', 'red', 'red', 'red', 'red',\n",
       "       'blue', 'red', 'yellow', 'purple', 'red', 'blue', 'blue', 'red',\n",
       "       'purple', 'red', 'blue', 'green', 'yellow', 'blue', 'red',\n",
       "       'yellow', 'red', 'red', 'green', 'yellow', 'yellow', 'green',\n",
       "       'blue', 'red', 'purple', 'red', 'red', 'blue', 'red', 'green',\n",
       "       'green', 'yellow'], dtype='<U6')"
      ]
     },
     "execution_count": 2,
     "metadata": {},
     "output_type": "execute_result"
    }
   ],
   "source": [
    "np.random.seed(42)\n",
    "colors=['red','green','blue','yellow','purple']\n",
    "names=[f'student_{i}' for i in range(1,101)]\n",
    "grades=np.random.randint(50,100,size=100)\n",
    "fav_colours=np.random.choice(colors,size=100)\n",
    "fav_colours"
   ]
  },
  {
   "cell_type": "code",
   "execution_count": 3,
   "id": "65952732",
   "metadata": {},
   "outputs": [
    {
     "data": {
      "text/plain": [
       "array([88, 78, 64, 92, 57, 70, 88, 68, 72, 60, 60, 73, 85, 89, 73, 52, 71,\n",
       "       51, 73, 93, 79, 87, 51, 70, 82, 61, 71, 93, 74, 98, 76, 91, 77, 65,\n",
       "       64, 96, 93, 52, 86, 56, 70, 58, 88, 67, 53, 74, 63, 99, 58, 75, 51,\n",
       "       69, 77, 96, 56, 93, 57, 96, 84, 63, 66, 85, 99, 89, 53, 51, 55, 91,\n",
       "       53, 78, 67, 75, 93, 83, 59, 85, 63, 80, 97, 64, 57, 63, 72, 89, 70,\n",
       "       65, 94, 67, 96, 73, 75, 74, 94, 90, 78, 64, 94, 50, 74, 56])"
      ]
     },
     "execution_count": 3,
     "metadata": {},
     "output_type": "execute_result"
    }
   ],
   "source": [
    "grades"
   ]
  },
  {
   "cell_type": "code",
   "execution_count": 4,
   "id": "b948a4fc",
   "metadata": {},
   "outputs": [
    {
     "data": {
      "text/plain": [
       "['student_1',\n",
       " 'student_2',\n",
       " 'student_3',\n",
       " 'student_4',\n",
       " 'student_5',\n",
       " 'student_6',\n",
       " 'student_7',\n",
       " 'student_8',\n",
       " 'student_9',\n",
       " 'student_10',\n",
       " 'student_11',\n",
       " 'student_12',\n",
       " 'student_13',\n",
       " 'student_14',\n",
       " 'student_15',\n",
       " 'student_16',\n",
       " 'student_17',\n",
       " 'student_18',\n",
       " 'student_19',\n",
       " 'student_20',\n",
       " 'student_21',\n",
       " 'student_22',\n",
       " 'student_23',\n",
       " 'student_24',\n",
       " 'student_25',\n",
       " 'student_26',\n",
       " 'student_27',\n",
       " 'student_28',\n",
       " 'student_29',\n",
       " 'student_30',\n",
       " 'student_31',\n",
       " 'student_32',\n",
       " 'student_33',\n",
       " 'student_34',\n",
       " 'student_35',\n",
       " 'student_36',\n",
       " 'student_37',\n",
       " 'student_38',\n",
       " 'student_39',\n",
       " 'student_40',\n",
       " 'student_41',\n",
       " 'student_42',\n",
       " 'student_43',\n",
       " 'student_44',\n",
       " 'student_45',\n",
       " 'student_46',\n",
       " 'student_47',\n",
       " 'student_48',\n",
       " 'student_49',\n",
       " 'student_50',\n",
       " 'student_51',\n",
       " 'student_52',\n",
       " 'student_53',\n",
       " 'student_54',\n",
       " 'student_55',\n",
       " 'student_56',\n",
       " 'student_57',\n",
       " 'student_58',\n",
       " 'student_59',\n",
       " 'student_60',\n",
       " 'student_61',\n",
       " 'student_62',\n",
       " 'student_63',\n",
       " 'student_64',\n",
       " 'student_65',\n",
       " 'student_66',\n",
       " 'student_67',\n",
       " 'student_68',\n",
       " 'student_69',\n",
       " 'student_70',\n",
       " 'student_71',\n",
       " 'student_72',\n",
       " 'student_73',\n",
       " 'student_74',\n",
       " 'student_75',\n",
       " 'student_76',\n",
       " 'student_77',\n",
       " 'student_78',\n",
       " 'student_79',\n",
       " 'student_80',\n",
       " 'student_81',\n",
       " 'student_82',\n",
       " 'student_83',\n",
       " 'student_84',\n",
       " 'student_85',\n",
       " 'student_86',\n",
       " 'student_87',\n",
       " 'student_88',\n",
       " 'student_89',\n",
       " 'student_90',\n",
       " 'student_91',\n",
       " 'student_92',\n",
       " 'student_93',\n",
       " 'student_94',\n",
       " 'student_95',\n",
       " 'student_96',\n",
       " 'student_97',\n",
       " 'student_98',\n",
       " 'student_99',\n",
       " 'student_100']"
      ]
     },
     "execution_count": 4,
     "metadata": {},
     "output_type": "execute_result"
    }
   ],
   "source": [
    "names"
   ]
  },
  {
   "cell_type": "code",
   "execution_count": 5,
   "id": "b5f7ad7c",
   "metadata": {},
   "outputs": [],
   "source": [
    "df= pd.DataFrame({\n",
    "    'Name':names,\n",
    "    'Favorite_color':fav_colours,\n",
    "    'Grade':grades})"
   ]
  },
  {
   "cell_type": "code",
   "execution_count": 6,
   "id": "1355dce1",
   "metadata": {},
   "outputs": [
    {
     "data": {
      "text/html": [
       "<div>\n",
       "<style scoped>\n",
       "    .dataframe tbody tr th:only-of-type {\n",
       "        vertical-align: middle;\n",
       "    }\n",
       "\n",
       "    .dataframe tbody tr th {\n",
       "        vertical-align: top;\n",
       "    }\n",
       "\n",
       "    .dataframe thead th {\n",
       "        text-align: right;\n",
       "    }\n",
       "</style>\n",
       "<table border=\"1\" class=\"dataframe\">\n",
       "  <thead>\n",
       "    <tr style=\"text-align: right;\">\n",
       "      <th></th>\n",
       "      <th>Name</th>\n",
       "      <th>Favorite_color</th>\n",
       "      <th>Grade</th>\n",
       "    </tr>\n",
       "  </thead>\n",
       "  <tbody>\n",
       "    <tr>\n",
       "      <th>0</th>\n",
       "      <td>student_1</td>\n",
       "      <td>red</td>\n",
       "      <td>88</td>\n",
       "    </tr>\n",
       "    <tr>\n",
       "      <th>1</th>\n",
       "      <td>student_2</td>\n",
       "      <td>red</td>\n",
       "      <td>78</td>\n",
       "    </tr>\n",
       "    <tr>\n",
       "      <th>2</th>\n",
       "      <td>student_3</td>\n",
       "      <td>yellow</td>\n",
       "      <td>64</td>\n",
       "    </tr>\n",
       "    <tr>\n",
       "      <th>3</th>\n",
       "      <td>student_4</td>\n",
       "      <td>blue</td>\n",
       "      <td>92</td>\n",
       "    </tr>\n",
       "    <tr>\n",
       "      <th>4</th>\n",
       "      <td>student_5</td>\n",
       "      <td>blue</td>\n",
       "      <td>57</td>\n",
       "    </tr>\n",
       "    <tr>\n",
       "      <th>...</th>\n",
       "      <td>...</td>\n",
       "      <td>...</td>\n",
       "      <td>...</td>\n",
       "    </tr>\n",
       "    <tr>\n",
       "      <th>95</th>\n",
       "      <td>student_96</td>\n",
       "      <td>blue</td>\n",
       "      <td>64</td>\n",
       "    </tr>\n",
       "    <tr>\n",
       "      <th>96</th>\n",
       "      <td>student_97</td>\n",
       "      <td>red</td>\n",
       "      <td>94</td>\n",
       "    </tr>\n",
       "    <tr>\n",
       "      <th>97</th>\n",
       "      <td>student_98</td>\n",
       "      <td>green</td>\n",
       "      <td>50</td>\n",
       "    </tr>\n",
       "    <tr>\n",
       "      <th>98</th>\n",
       "      <td>student_99</td>\n",
       "      <td>green</td>\n",
       "      <td>74</td>\n",
       "    </tr>\n",
       "    <tr>\n",
       "      <th>99</th>\n",
       "      <td>student_100</td>\n",
       "      <td>yellow</td>\n",
       "      <td>56</td>\n",
       "    </tr>\n",
       "  </tbody>\n",
       "</table>\n",
       "<p>100 rows × 3 columns</p>\n",
       "</div>"
      ],
      "text/plain": [
       "           Name Favorite_color  Grade\n",
       "0     student_1            red     88\n",
       "1     student_2            red     78\n",
       "2     student_3         yellow     64\n",
       "3     student_4           blue     92\n",
       "4     student_5           blue     57\n",
       "..          ...            ...    ...\n",
       "95   student_96           blue     64\n",
       "96   student_97            red     94\n",
       "97   student_98          green     50\n",
       "98   student_99          green     74\n",
       "99  student_100         yellow     56\n",
       "\n",
       "[100 rows x 3 columns]"
      ]
     },
     "execution_count": 6,
     "metadata": {},
     "output_type": "execute_result"
    }
   ],
   "source": [
    "df"
   ]
  },
  {
   "cell_type": "code",
   "execution_count": 8,
   "id": "d61f5a20",
   "metadata": {},
   "outputs": [
    {
     "data": {
      "text/html": [
       "<div>\n",
       "<style scoped>\n",
       "    .dataframe tbody tr th:only-of-type {\n",
       "        vertical-align: middle;\n",
       "    }\n",
       "\n",
       "    .dataframe tbody tr th {\n",
       "        vertical-align: top;\n",
       "    }\n",
       "\n",
       "    .dataframe thead th {\n",
       "        text-align: right;\n",
       "    }\n",
       "</style>\n",
       "<table border=\"1\" class=\"dataframe\">\n",
       "  <thead>\n",
       "    <tr style=\"text-align: right;\">\n",
       "      <th></th>\n",
       "      <th>Name</th>\n",
       "      <th>Favorite_color</th>\n",
       "      <th>Grade</th>\n",
       "    </tr>\n",
       "  </thead>\n",
       "  <tbody>\n",
       "    <tr>\n",
       "      <th>62</th>\n",
       "      <td>student_63</td>\n",
       "      <td>green</td>\n",
       "      <td>99</td>\n",
       "    </tr>\n",
       "    <tr>\n",
       "      <th>67</th>\n",
       "      <td>student_68</td>\n",
       "      <td>red</td>\n",
       "      <td>91</td>\n",
       "    </tr>\n",
       "    <tr>\n",
       "      <th>72</th>\n",
       "      <td>student_73</td>\n",
       "      <td>red</td>\n",
       "      <td>93</td>\n",
       "    </tr>\n",
       "    <tr>\n",
       "      <th>86</th>\n",
       "      <td>student_87</td>\n",
       "      <td>green</td>\n",
       "      <td>94</td>\n",
       "    </tr>\n",
       "    <tr>\n",
       "      <th>96</th>\n",
       "      <td>student_97</td>\n",
       "      <td>red</td>\n",
       "      <td>94</td>\n",
       "    </tr>\n",
       "  </tbody>\n",
       "</table>\n",
       "</div>"
      ],
      "text/plain": [
       "          Name Favorite_color  Grade\n",
       "62  student_63          green     99\n",
       "67  student_68            red     91\n",
       "72  student_73            red     93\n",
       "86  student_87          green     94\n",
       "96  student_97            red     94"
      ]
     },
     "execution_count": 8,
     "metadata": {},
     "output_type": "execute_result"
    }
   ],
   "source": [
    "start_time = time.time()\n",
    "#Filter condition\n",
    "filtered_df=df[(df['Favorite_color'].isin(['red','green'])) & (df['Grade']>90)]\n",
    "filtered_df"
   ]
  },
  {
   "cell_type": "code",
   "execution_count": 9,
   "id": "d5c00828",
   "metadata": {},
   "outputs": [],
   "source": [
    "end_time=time.time()"
   ]
  },
  {
   "cell_type": "code",
   "execution_count": 10,
   "id": "b941f37e",
   "metadata": {},
   "outputs": [
    {
     "data": {
      "text/plain": [
       "0"
      ]
     },
     "execution_count": 10,
     "metadata": {},
     "output_type": "execute_result"
    }
   ],
   "source": [
    "# Calculate KPI\n",
    "total_records=len(df)\n",
    "filtered_records=len(filtered_df)\n",
    "hit_rate=round((filtered_records/total_records)*100,2)\n",
    "execution_time=round(end_time-start_time,4)\n",
    "missing_values=df.isnull().sum().sum()\n",
    "missing_values"
   ]
  },
  {
   "cell_type": "code",
   "execution_count": 11,
   "id": "5270e975",
   "metadata": {},
   "outputs": [
    {
     "data": {
      "text/plain": [
       "15.5498"
      ]
     },
     "execution_count": 11,
     "metadata": {},
     "output_type": "execute_result"
    }
   ],
   "source": [
    "execution_time"
   ]
  },
  {
   "cell_type": "code",
   "execution_count": 12,
   "id": "0450f1c9",
   "metadata": {},
   "outputs": [
    {
     "data": {
      "text/plain": [
       "5.0"
      ]
     },
     "execution_count": 12,
     "metadata": {},
     "output_type": "execute_result"
    }
   ],
   "source": [
    "hit_rate"
   ]
  },
  {
   "cell_type": "code",
   "execution_count": 13,
   "id": "0e4ef10d",
   "metadata": {},
   "outputs": [
    {
     "data": {
      "text/plain": [
       "5"
      ]
     },
     "execution_count": 13,
     "metadata": {},
     "output_type": "execute_result"
    }
   ],
   "source": [
    "filtered_records"
   ]
  },
  {
   "cell_type": "code",
   "execution_count": 14,
   "id": "9f2404ea",
   "metadata": {},
   "outputs": [
    {
     "data": {
      "text/plain": [
       "100"
      ]
     },
     "execution_count": 14,
     "metadata": {},
     "output_type": "execute_result"
    }
   ],
   "source": [
    "total_records"
   ]
  },
  {
   "cell_type": "code",
   "execution_count": 15,
   "id": "f28e574f",
   "metadata": {},
   "outputs": [],
   "source": [
    "# KPI Summary\n",
    "kpi ={\n",
    "    'Total Records':total_records,\n",
    "    'Filtered Record':filtered_records,\n",
    "    'Hit Rate(%)':hit_rate,\n",
    "    'Execution Time(s)':execution_time,\n",
    "    'Missing Values':execution_time\n",
    "}"
   ]
  },
  {
   "cell_type": "code",
   "execution_count": 16,
   "id": "743e0efd",
   "metadata": {},
   "outputs": [
    {
     "data": {
      "text/plain": [
       "{'Total Records': 100,\n",
       " 'Filtered Record': 5,\n",
       " 'Hit Rate(%)': 5.0,\n",
       " 'Execution Time(s)': 15.5498,\n",
       " 'Missing Values': 15.5498}"
      ]
     },
     "execution_count": 16,
     "metadata": {},
     "output_type": "execute_result"
    }
   ],
   "source": [
    "kpi"
   ]
  },
  {
   "cell_type": "code",
   "execution_count": 17,
   "id": "dd8c9293",
   "metadata": {},
   "outputs": [
    {
     "name": "stdout",
     "output_type": "stream",
     "text": [
      "KPI Summary\n",
      "Total Records:100\n",
      "Filtered Record:5\n",
      "Hit Rate(%):5.0\n",
      "Execution Time(s):15.5498\n",
      "Missing Values:15.5498\n"
     ]
    }
   ],
   "source": [
    "print(\"KPI Summary\")\n",
    "for key,value in kpi.items():\n",
    "    print(f\"{key}:{value}\")"
   ]
  }
 ],
 "metadata": {
  "kernelspec": {
   "display_name": "Python 3 (ipykernel)",
   "language": "python",
   "name": "python3"
  },
  "language_info": {
   "codemirror_mode": {
    "name": "ipython",
    "version": 3
   },
   "file_extension": ".py",
   "mimetype": "text/x-python",
   "name": "python",
   "nbconvert_exporter": "python",
   "pygments_lexer": "ipython3",
   "version": "3.11.5"
  }
 },
 "nbformat": 4,
 "nbformat_minor": 5
}
